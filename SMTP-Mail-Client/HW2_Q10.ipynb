{
  "nbformat": 4,
  "nbformat_minor": 0,
  "metadata": {
    "colab": {
      "name": "HW2_Q10.ipynb",
      "provenance": [],
      "collapsed_sections": []
    },
    "kernelspec": {
      "name": "python3",
      "display_name": "Python 3"
    }
  },
  "cells": [
    {
      "cell_type": "code",
      "metadata": {
        "id": "JPaV2BeMxmLE",
        "outputId": "efee6654-6003-4c92-ace3-d21e7dcacb01",
        "colab": {
          "base_uri": "https://localhost:8080/"
        }
      },
      "source": [
        "import smtplib \n",
        "#########################\n",
        "\n",
        "msg = \"\\r\\n I love computer networks!\"\n",
        "mailPort = 587\n",
        "mailserver = 'smtp.gmail.com'\n",
        "\n",
        "source_email_address = \"roozbehmonjar@gmail.com\"\n",
        "source_email_password = \"ThisIsForHW2\"\n",
        "destination_email_address = \"sarlak3@gmail.com\"\n",
        "\n",
        "##########################\n",
        "\n",
        "# creates SMTP session \n",
        "s = smtplib.SMTP(mailserver, mailPort) \n",
        "# start TLS for security \n",
        "s.starttls() \n",
        "# Authentication \n",
        "s.login(source_email_address, source_email_password )   \n",
        "# sending the mail \n",
        "s.sendmail(source_email_address, destination_email_address, msg) \n",
        "\n",
        "s.quit() "
      ],
      "execution_count": 15,
      "outputs": [
        {
          "output_type": "execute_result",
          "data": {
            "text/plain": [
              "(221, b'2.0.0 closing connection r12sm21210942pfh.213 - gsmtp')"
            ]
          },
          "metadata": {
            "tags": []
          },
          "execution_count": 15
        }
      ]
    },
    {
      "cell_type": "code",
      "metadata": {
        "id": "l-5pLOfZ7wQP"
      },
      "source": [
        ""
      ],
      "execution_count": null,
      "outputs": []
    }
  ]
}